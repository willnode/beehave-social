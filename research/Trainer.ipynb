{
 "cells": [
  {
   "cell_type": "markdown",
   "id": "e0d42cdf",
   "metadata": {},
   "source": [
    "## Trainer Testing"
   ]
  },
  {
   "cell_type": "code",
   "execution_count": 31,
   "id": "46014941",
   "metadata": {},
   "outputs": [],
   "source": [
    "from util.db import mydb\n",
    "import tensorflow as tf\n",
    "from collections import Counter\n",
    "from extractor import mycursor # also execute extractor first\n",
    "from sklearn.feature_extraction.text import CountVectorizer, TfidfVectorizer, TfidfTransformer\n",
    "from sklearn.model_selection import train_test_split\n",
    "from tensorflow.keras import datasets, layers, models\n",
    "from sklearn.preprocessing import MinMaxScaler\n",
    "import numpy as np"
   ]
  },
  {
   "cell_type": "code",
   "execution_count": 32,
   "id": "88b8559d",
   "metadata": {},
   "outputs": [],
   "source": [
    "# fetch from DB\n",
    "sql = (\"SELECT id, keyword,rating,raters,viewers,TIMESTAMPDIFF(DAY, created_at, NOW())\"\n",
    "    \"FROM wall WHERE keyword IS NOT NULL and created_at > now() - INTERVAL 60 DAY\")\n",
    "mycursor.execute(sql)\n",
    "\n",
    "walls = mycursor.fetchall()"
   ]
  },
  {
   "cell_type": "code",
   "execution_count": 33,
   "id": "fe23f1b1",
   "metadata": {},
   "outputs": [],
   "source": [
    "# Grab X, Y\n",
    "ids = [x[0] for x in walls]\n",
    "corpus = [x[1] for x in walls]\n",
    "statistics = [x[2:5] for x in walls]\n",
    "age = [x[5] for x in walls]\n",
    "scaler = MinMaxScaler()\n",
    "X = CountVectorizer().fit_transform(corpus)\n",
    "X = TfidfTransformer().fit_transform(X)\n",
    "X = np.array(X.toarray())\n",
    "Y = np.array(statistics)\n",
    "Y = scaler.fit_transform(Y)"
   ]
  },
  {
   "cell_type": "code",
   "execution_count": 34,
   "id": "24d4c0a5",
   "metadata": {},
   "outputs": [],
   "source": [
    "# compile\n",
    "model = models.Sequential([\n",
    "        tf.keras.layers.Dense(len(ids), activation=\"relu\"),\n",
    "        tf.keras.layers.Dense(32, activation=\"relu\"),\n",
    "        tf.keras.layers.Dense(24, activation=\"relu\"),\n",
    "        tf.keras.layers.Dense(10, activation=\"relu\"),\n",
    "        tf.keras.layers.Dense(3, activation='sigmoid')\n",
    "    ])\n",
    "model.compile(loss=tf.keras.losses.MeanSquaredError(), optimizer='adam', metrics=['accuracy'])"
   ]
  },
  {
   "cell_type": "code",
   "execution_count": 35,
   "id": "6d564f64",
   "metadata": {},
   "outputs": [
    {
     "name": "stdout",
     "output_type": "stream",
     "text": [
      "Epoch 1/10\n",
      "1/1 [==============================] - 0s 498ms/step - loss: 0.1794 - accuracy: 0.0000e+00 - val_loss: 0.1140 - val_accuracy: 0.0000e+00\n",
      "Epoch 2/10\n",
      "1/1 [==============================] - 0s 15ms/step - loss: 0.1790 - accuracy: 0.6667 - val_loss: 0.1143 - val_accuracy: 0.0000e+00\n",
      "Epoch 3/10\n",
      "1/1 [==============================] - 0s 16ms/step - loss: 0.1787 - accuracy: 0.6667 - val_loss: 0.1145 - val_accuracy: 0.0000e+00\n",
      "Epoch 4/10\n",
      "1/1 [==============================] - 0s 16ms/step - loss: 0.1784 - accuracy: 0.6667 - val_loss: 0.1146 - val_accuracy: 0.0000e+00\n",
      "Epoch 5/10\n",
      "1/1 [==============================] - 0s 16ms/step - loss: 0.1780 - accuracy: 0.6667 - val_loss: 0.1148 - val_accuracy: 0.0000e+00\n",
      "Epoch 6/10\n",
      "1/1 [==============================] - 0s 17ms/step - loss: 0.1776 - accuracy: 0.6667 - val_loss: 0.1150 - val_accuracy: 0.0000e+00\n",
      "Epoch 7/10\n",
      "1/1 [==============================] - 0s 16ms/step - loss: 0.1773 - accuracy: 0.6667 - val_loss: 0.1152 - val_accuracy: 0.0000e+00\n",
      "Epoch 8/10\n",
      "1/1 [==============================] - 0s 16ms/step - loss: 0.1770 - accuracy: 0.6667 - val_loss: 0.1154 - val_accuracy: 0.0000e+00\n",
      "Epoch 9/10\n",
      "1/1 [==============================] - 0s 16ms/step - loss: 0.1766 - accuracy: 0.6667 - val_loss: 0.1157 - val_accuracy: 0.0000e+00\n",
      "Epoch 10/10\n",
      "1/1 [==============================] - 0s 16ms/step - loss: 0.1762 - accuracy: 0.6667 - val_loss: 0.1160 - val_accuracy: 0.0000e+00\n"
     ]
    }
   ],
   "source": [
    "# train\n",
    "X_train, X_test, Y_train, Y_test = train_test_split(X, Y, test_size=0.4)\n",
    "history = model.fit(X_train, Y_train, epochs=10, validation_data=(X_test, Y_test))"
   ]
  },
  {
   "cell_type": "code",
   "execution_count": 36,
   "id": "d7df920d",
   "metadata": {},
   "outputs": [
    {
     "name": "stdout",
     "output_type": "stream",
     "text": [
      "Model: \"sequential_2\"\n",
      "_________________________________________________________________\n",
      "Layer (type)                 Output Shape              Param #   \n",
      "=================================================================\n",
      "dense_10 (Dense)             (None, 5)                 2780      \n",
      "_________________________________________________________________\n",
      "dense_11 (Dense)             (None, 32)                192       \n",
      "_________________________________________________________________\n",
      "dense_12 (Dense)             (None, 24)                792       \n",
      "_________________________________________________________________\n",
      "dense_13 (Dense)             (None, 10)                250       \n",
      "_________________________________________________________________\n",
      "dense_14 (Dense)             (None, 3)                 33        \n",
      "=================================================================\n",
      "Total params: 4,047\n",
      "Trainable params: 4,047\n",
      "Non-trainable params: 0\n",
      "_________________________________________________________________\n"
     ]
    }
   ],
   "source": [
    "model.summary()"
   ]
  },
  {
   "cell_type": "code",
   "execution_count": 43,
   "id": "ab7c1b22",
   "metadata": {},
   "outputs": [],
   "source": [
    "predicted = scaler.inverse_transform(model.predict(X))\n",
    "# push to mysql\n",
    "sql = \"UPDATE wall SET predicted_rating = %s, predicted_raters=%s, predicted_viewers=%s, predicted_score=%s  WHERE id=%s\"\n",
    "for k, v in enumerate(predicted.tolist()):\n",
    "    mycursor.execute(sql, [*v,v[0]*v[2]/(age[k]+1), ids[k]])\n",
    "mydb.commit()"
   ]
  },
  {
   "cell_type": "code",
   "execution_count": null,
   "id": "d9936fbf",
   "metadata": {},
   "outputs": [],
   "source": []
  }
 ],
 "metadata": {
  "kernelspec": {
   "display_name": "Python 3",
   "language": "python",
   "name": "python3"
  },
  "language_info": {
   "codemirror_mode": {
    "name": "ipython",
    "version": 3
   },
   "file_extension": ".py",
   "mimetype": "text/x-python",
   "name": "python",
   "nbconvert_exporter": "python",
   "pygments_lexer": "ipython3",
   "version": "3.9.5"
  }
 },
 "nbformat": 4,
 "nbformat_minor": 5
}
